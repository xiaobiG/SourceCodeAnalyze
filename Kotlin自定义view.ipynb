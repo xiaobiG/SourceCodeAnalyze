{
 "cells": [
  {
   "cell_type": "markdown",
   "metadata": {},
   "source": [
    "# 创建类\n",
    "\n",
    "```kotlin\n",
    "class PieChart(context: Context, attrs: AttributeSet) : View(context, attrs)\n",
    "```\n",
    "\n",
    "kotlin 中获取xml属性\n",
    "\n",
    "```kotlin\n",
    "init {\n",
    "    context.theme.obtainStyledAttributes(\n",
    "            attrs,\n",
    "            R.styleable.PieChart,\n",
    "            0, 0).apply {\n",
    "\n",
    "        try {\n",
    "            mShowText = getBoolean(R.styleable.PieChart_showText, false)\n",
    "            mTextPos = getInteger(R.styleable.PieChart_labelPosition, 0)\n",
    "        } finally {\n",
    "            recycle()\n",
    "        }\n",
    "    }\n",
    "}\n",
    "```"
   ]
  },
  {
   "cell_type": "markdown",
   "metadata": {},
   "source": [
    "# 自定义属性\n",
    "\n",
    "res/values/attrs.xml\n",
    "\n",
    "```xml\n",
    "<resources>\n",
    "   <declare-styleable name=\"PieChart\">\n",
    "       <attr name=\"showText\" format=\"boolean\" />\n",
    "       <attr name=\"labelPosition\" format=\"enum\">\n",
    "           <enum name=\"left\" value=\"0\"/>\n",
    "           <enum name=\"right\" value=\"1\"/>\n",
    "       </attr>\n",
    "   </declare-styleable>\n",
    "</resources>\n",
    "```\n",
    "\n",
    "```java\n",
    "public PieChart(Context context, AttributeSet attrs) {\n",
    "   super(context, attrs);\n",
    "   TypedArray a = context.getTheme().obtainStyledAttributes(\n",
    "        attrs,\n",
    "        R.styleable.PieChart,\n",
    "        0, 0);\n",
    "\n",
    "   try {\n",
    "       mShowText = a.getBoolean(R.styleable.PieChart_showText, false);\n",
    "       mTextPos = a.getInteger(R.styleable.PieChart_labelPosition, 0);\n",
    "   } finally {\n",
    "       a.recycle();\n",
    "   }\n",
    "}\n",
    "```"
   ]
  },
  {
   "cell_type": "markdown",
   "metadata": {},
   "source": [
    "- invalidate() 重新绘制该视图\n",
    "- requestLayout() 请求新布局\n",
    "\n",
    "> https://developer.android.com/training/custom-views/custom-drawing"
   ]
  },
  {
   "cell_type": "code",
   "execution_count": null,
   "metadata": {},
   "outputs": [],
   "source": []
  }
 ],
 "metadata": {
  "kernelspec": {
   "display_name": "Python 3",
   "language": "python",
   "name": "python3"
  },
  "language_info": {
   "codemirror_mode": {
    "name": "ipython",
    "version": 3
   },
   "file_extension": ".py",
   "mimetype": "text/x-python",
   "name": "python",
   "nbconvert_exporter": "python",
   "pygments_lexer": "ipython3",
   "version": "3.9.2"
  }
 },
 "nbformat": 4,
 "nbformat_minor": 4
}
