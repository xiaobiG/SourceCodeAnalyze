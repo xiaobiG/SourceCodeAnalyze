{
 "cells": [
  {
   "attachments": {
    "fc778521-0426-48b3-bfe7-36cc04f1aa91.png": {
     "image/png": "[encoded data removed]"
    }
   },
   "cell_type": "markdown",
   "metadata": {},
   "source": [
    "![image.png](attachment:fc778521-0426-48b3-bfe7-36cc04f1aa91.png)"
   ]
  },
  {
   "attachments": {
    "c5fae827-c29d-4324-abbc-aa4f997d1e52.png": {
     "image/png": "[encoded data removed]"
    }
   },
   "cell_type": "markdown",
   "metadata": {},
   "source": [
    "```java\n",
    "import android.content.Context;\n",
    "import android.content.res.Resources;\n",
    "import android.graphics.Canvas;\n",
    "import android.graphics.Color;\n",
    "import android.graphics.Paint;\n",
    "import android.graphics.RectF;\n",
    "import android.util.AttributeSet;\n",
    "import android.util.DisplayMetrics;\n",
    "import android.util.TypedValue;\n",
    "import android.view.View;\n",
    "\n",
    "import androidx.annotation.Nullable;\n",
    "\n",
    "/**\n",
    " * 直播状态\n",
    " */\n",
    "public class LiveStatusView extends View {\n",
    "\n",
    "    private int defaultWidth = 200;\n",
    "    private int defaultHeight = 35;\n",
    "    private Paint mPaint = new Paint(Paint.ANTI_ALIAS_FLAG);\n",
    "    private int status = STATUS_LIVE;\n",
    "\n",
    "    // 离线\n",
    "    public static final int STATUS_DISCONNECT = 1;\n",
    "    // 在线\n",
    "    public static final int STATUS_ONLINE = 2;\n",
    "    // 在聊\n",
    "    public static final int STATUS_LIVE = 3;\n",
    "\n",
    "    private float dotRadius = dp2px(3);\n",
    "\n",
    "    public LiveStatusView(Context context, @Nullable AttributeSet attrs) {\n",
    "        super(context, attrs);\n",
    "        init();\n",
    "    }\n",
    "\n",
    "    public LiveStatusView(Context context, @Nullable AttributeSet attrs, int defStyleAttr) {\n",
    "        super(context, attrs, defStyleAttr);\n",
    "        init();\n",
    "    }\n",
    "\n",
    "    private void init() {\n",
    "\n",
    "    }\n",
    "\n",
    "    public void setStatus(int status) {\n",
    "        this.status = status;\n",
    "        invalidate();\n",
    "    }\n",
    "\n",
    "    @Override\n",
    "    protected void onMeasure(int widthMeasureSpec, int heightMeasureSpec) {\n",
    "        setMeasuredDimension(resolveSize(defaultWidth, widthMeasureSpec),\n",
    "                resolveSize(defaultHeight, heightMeasureSpec));\n",
    "    }\n",
    "\n",
    "\n",
    "    private RectF rectF = new RectF();\n",
    "\n",
    "    @Override\n",
    "    protected void onDraw(Canvas canvas) {\n",
    "        int bgColor = Color.WHITE;\n",
    "        int textColor = Color.BLACK;\n",
    "        String text = \"\";\n",
    "        switch (status) {\n",
    "            case STATUS_DISCONNECT:\n",
    "                bgColor = Color.parseColor(\"#AB333333\");\n",
    "                textColor = Color.parseColor(\"#FFD4D4D4\");\n",
    "                text = \"离线\";\n",
    "                break;\n",
    "            case STATUS_ONLINE:\n",
    "                bgColor = Color.parseColor(\"#AB2B2B2B\");\n",
    "                textColor = Color.parseColor(\"#3EFF76\");\n",
    "                text = \"在线\";\n",
    "                break;\n",
    "            case STATUS_LIVE:\n",
    "                bgColor = Color.parseColor(\"#ABFE54C7\");\n",
    "                textColor = Color.parseColor(\"#FFFFFFFF\");\n",
    "                text = \"在聊\";\n",
    "                break;\n",
    "        }\n",
    "\n",
    "        mPaint.setColor(bgColor);\n",
    "        mPaint.setStyle(Paint.Style.FILL);\n",
    "        rectF.set(0, 0, getWidth(), getHeight());\n",
    "        canvas.drawRoundRect(rectF, getHeight() / 2f, getHeight() / 2f, mPaint);\n",
    "\n",
    "        mPaint.setColor(textColor);\n",
    "        mPaint.setStyle(Paint.Style.FILL);\n",
    "        canvas.drawCircle(getHeight() / 2f, getHeight() / 2f, dotRadius, mPaint);\n",
    "        mPaint.setStyle(Paint.Style.FILL_AND_STROKE);\n",
    "        mPaint.setTextSize(dp2px(12));\n",
    "        canvas.drawText(text, getHeight() + dp2px(2), getHeight() / 2f - (mPaint.ascent() + mPaint.descent()) / 2, mPaint);\n",
    "\n",
    "    }\n",
    "\n",
    "    public static float dp2px(float dp) {\n",
    "        DisplayMetrics dm = Resources.getSystem().getDisplayMetrics();\n",
    "        return TypedValue.applyDimension(TypedValue.COMPLEX_UNIT_DIP, dp, dm);\n",
    "    }\n",
    "}\n",
    "\n",
    "\n",
    "```"
   ]
  },
  {
   "cell_type": "markdown",
   "metadata": {},
   "source": []
  }
 ],
 "metadata": {
  "kernelspec": {
   "display_name": "Python 3",
   "language": "python",
   "name": "python3"
  },
  "language_info": {
   "codemirror_mode": {
    "name": "ipython",
    "version": 3
   },
   "file_extension": ".py",
   "mimetype": "text/x-python",
   "name": "python",
   "nbconvert_exporter": "python",
   "pygments_lexer": "ipython3",
   "version": "3.9.2"
  }
 },
 "nbformat": 4,
 "nbformat_minor": 4
}
