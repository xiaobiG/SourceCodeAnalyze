{
 "cells": [
  {
   "cell_type": "code",
   "execution_count": null,
   "metadata": {},
   "outputs": [],
   "source": []
  },
  {
   "cell_type": "markdown",
   "metadata": {},
   "source": [
    "```java\n",
    "import android.content.Context;\n",
    "import android.content.res.Resources;\n",
    "import android.graphics.Canvas;\n",
    "import android.graphics.Color;\n",
    "import android.graphics.Paint;\n",
    "import android.support.annotation.Nullable;\n",
    "import android.util.AttributeSet;\n",
    "import android.util.DisplayMetrics;\n",
    "import android.util.TypedValue;\n",
    "import android.view.View;\n",
    "\n",
    "/**\n",
    " * 小圆点\n",
    " */\n",
    "public class DotView extends View {\n",
    "\n",
    "    private int defaultWidth = 10;\n",
    "    private int defaultHeight = 10;\n",
    "    private int color = Color.parseColor(\"#FFE92A2A\");\n",
    "\n",
    "    private final float radius = dp2px(2.5f);\n",
    "    private Paint mPaint = new Paint(Paint.ANTI_ALIAS_FLAG);\n",
    "\n",
    "    public DotView(Context context) {\n",
    "        super(context);\n",
    "    }\n",
    "\n",
    "    public DotView(Context context, @Nullable AttributeSet attrs) {\n",
    "        super(context, attrs);\n",
    "    }\n",
    "\n",
    "    public DotView(Context context, @Nullable AttributeSet attrs, int defStyleAttr) {\n",
    "        super(context, attrs, defStyleAttr);\n",
    "    }\n",
    "\n",
    "    @Override\n",
    "    protected void onMeasure(int widthMeasureSpec, int heightMeasureSpec) {\n",
    "        setMeasuredDimension(resolveSize(defaultWidth, widthMeasureSpec),\n",
    "                resolveSize(defaultHeight, heightMeasureSpec));\n",
    "    }\n",
    "\n",
    "    public void setColor(int color) {\n",
    "        this.color = color;\n",
    "        invalidate();\n",
    "    }\n",
    "\n",
    "    @Override\n",
    "    protected void onDraw(Canvas canvas) {\n",
    "        mPaint.setStyle(Paint.Style.FILL);\n",
    "        mPaint.setColor(color);\n",
    "        canvas.drawCircle(getWidth() / 2f, getHeight() / 2f, radius, mPaint);\n",
    "    }\n",
    "\n",
    "    public static float dp2px(float dp) {\n",
    "        DisplayMetrics dm = Resources.getSystem().getDisplayMetrics();\n",
    "        return TypedValue.applyDimension(TypedValue.COMPLEX_UNIT_DIP, dp, dm);\n",
    "    }\n",
    "}\n",
    "\n",
    "```"
   ]
  },
  {
   "cell_type": "code",
   "execution_count": null,
   "metadata": {},
   "outputs": [],
   "source": []
  }
 ],
 "metadata": {
  "kernelspec": {
   "display_name": "Python 3",
   "language": "python",
   "name": "python3"
  },
  "language_info": {
   "codemirror_mode": {
    "name": "ipython",
    "version": 3
   },
   "file_extension": ".py",
   "mimetype": "text/x-python",
   "name": "python",
   "nbconvert_exporter": "python",
   "pygments_lexer": "ipython3",
   "version": "3.9.2"
  }
 },
 "nbformat": 4,
 "nbformat_minor": 4
}
